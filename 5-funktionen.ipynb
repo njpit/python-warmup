{
 "cells": [
  {
   "cell_type": "markdown",
   "metadata": {},
   "source": [
    "### Übung: Funktionen in Python\n",
    "\n",
    "Bearbeitet die folgenden Aufgaben am besten zu zweit - wenn Ihr Fragen habt, meldet Euch, ich komme gern zu Euch!"
   ]
  },
  {
   "cell_type": "markdown",
   "metadata": {},
   "source": [
    "Definiere eine Funktion `hallo()`, die den Satz \"Hallo, Python!\" ausgibt, wenn sie aufgerufen wird.\n",
    "\n",
    "Rufe die Funktion auf, um sicherzustellen, dass sie funktioniert.\n",
    "\n"
   ]
  },
  {
   "cell_type": "code",
   "execution_count": null,
   "metadata": {},
   "outputs": [],
   "source": [
    "# Vorlage \n",
    "# def ...():\n",
    "#     --code--"
   ]
  },
  {
   "cell_type": "markdown",
   "metadata": {},
   "source": [
    "Definiere eine Funktion `begruesse(name)`, die einen Namen als Parameter entgegennimmt und \"Hallo, [name]!\" ausgibt. (Ersetze [name] durch den übergebenen Namen.)\n",
    "\n",
    "Rufe die Funktion mit deinem Namen als Argument auf.\n",
    "\n",
    "\n"
   ]
  },
  {
   "cell_type": "code",
   "execution_count": null,
   "metadata": {},
   "outputs": [],
   "source": [
    "# Vorlage \n",
    "# def ...(...):\n",
    "#     --code--"
   ]
  },
  {
   "cell_type": "markdown",
   "metadata": {},
   "source": [
    "Erstelle eine Funktion `addiere(zahl1, zahl2)`, die zwei Zahlen als Parameter entgegennimmt, ihre Summe berechnet und diese zurückgibt.\n",
    "\n",
    "Rufe die Funktion mit zwei beliebigen Zahlen auf und gib das Ergebnis aus.\n",
    "\n",
    "**Wichtig**: Die Funktion soll die Summe *zurückgeben*, nicht *ausgeben*!"
   ]
  },
  {
   "cell_type": "code",
   "execution_count": null,
   "metadata": {},
   "outputs": [],
   "source": []
  },
  {
   "cell_type": "markdown",
   "metadata": {},
   "source": [
    "Definiere eine Funktion `operationen(zahl1, zahl2)`, die zwei Zahlen entgegennimmt und ihre Summe, Differenz, Produkt und Quotient als vier Werte zurückgibt.\n",
    "\n",
    "Rufe die Funktion auf und speichere die Rückgabewerte in vier separaten Variablen. Gib diese dann aus."
   ]
  },
  {
   "cell_type": "code",
   "execution_count": null,
   "metadata": {},
   "outputs": [],
   "source": []
  },
  {
   "cell_type": "markdown",
   "metadata": {},
   "source": [
    "Erstelle eine Funktion `potenzieren(basis, exponent=2)`, die eine Zahl potenziert. Falls kein Exponent übergeben wird, sollte die Zahl standardmäßig quadriert werden.\n",
    "\n",
    "Rufe die Funktion einmal mit zwei Argumenten und einmal nur mit einer Basis auf."
   ]
  },
  {
   "cell_type": "code",
   "execution_count": null,
   "metadata": {},
   "outputs": [],
   "source": [
    "\n",
    "\n",
    "# Tests\n",
    "# assert(potenzieren(3, 2) == 9)\n",
    "# assert(potenzieren(2, 3) == 8)\n",
    "# assert(potenzieren(2, 0) == 1)\n",
    "# assert(potenzieren(0, 2) == 0)\n",
    "# assert(potenzieren(5) == 25)\n",
    "# assert(potenzieren(2,8) == 256)\n"
   ]
  },
  {
   "cell_type": "markdown",
   "metadata": {},
   "source": [
    "Schreibe eine Funktion `ist_primzahl(n)`, die überprüft, ob eine übergebene Zahl `n` eine Primzahl ist und dementsprechend `True` oder `False` zurückgibt (falls das zu schwer ist, suche im Internet nach einer Lösung).\n",
    "\n",
    "Verwende diese Funktion in einer Schleife, um alle Primzahlen zwischen 2 und 50 auszugeben."
   ]
  },
  {
   "cell_type": "code",
   "execution_count": null,
   "metadata": {},
   "outputs": [],
   "source": []
  },
  {
   "cell_type": "markdown",
   "metadata": {},
   "source": [
    "Entwickle eine Funktion `zeit_umrechnen(wert, starteinheit, zieleinheit)`.\n",
    "\n",
    "  - Die möglichen Werte für `starteinheit` und `zieleinheit` sind: 'sekunden', 'minuten', 'stunden'.\n",
    "  - Die Funktion sollte den `wert` von der `starteinheit` in die `zieleinheit` umrechnen.\n",
    "  - Die Funktion sollte den umgerechneten Wert zurückgeben."
   ]
  },
  {
   "cell_type": "code",
   "execution_count": null,
   "metadata": {},
   "outputs": [],
   "source": [
    "# vorlage:\n",
    "def zeit_umrechnen(wert, starteinheit, zieleinheit):\n",
    "    # prüfem, ob die Einheiten korrekt angegeben wurden\n",
    "    if starteinheit not in [\"sekunden\", \"minuten\", \"stunden\"] or zieleinheit not in [\"sekunden\", \"minuten\", \"stunden\"]:\n",
    "        # im Fehlerfall wird der Text \"Falsche Einheit angegeben\" zurückgegeben\n",
    "        return \"Falsche Einheit angegeben\"\n",
    "\n",
    "    # Hier kommt der Code hin, der die Umrechnung durchführt\n",
    "\n",
    "\n",
    "\n",
    "  \n",
    "# Tests, können genutzt werden, um die Funktion zu testen\n",
    "print(zeit_umrechnen(30, \"seunden\", \"inuten\")) # ergibt \"Falsche Einheit angegeben\"\n",
    "\n",
    "print(zeit_umrechnen(30, \"sekunden\", \"minuten\")) # ergibt 0.5\n",
    "print(zeit_umrechnen(1, \"minuten\", \"sekunden\")) # ergibt 60.0\n",
    "print(zeit_umrechnen(15, \"minuten\", \"stunden\")) # ergibt 0.25\n",
    "print(zeit_umrechnen(1, \"stunden\", \"minuten\")) # ergibt 60.0\n",
    "print(zeit_umrechnen(1, \"stunden\", \"sekunden\")) # ergibt 3600.0\n",
    "print(zeit_umrechnen(7200, \"sekunden\", \"stunden\")) # ergibt 2.0\n",
    "\n"
   ]
  }
 ],
 "metadata": {
  "kernelspec": {
   "display_name": "base",
   "language": "python",
   "name": "python3"
  },
  "language_info": {
   "codemirror_mode": {
    "name": "ipython",
    "version": 3
   },
   "file_extension": ".py",
   "mimetype": "text/x-python",
   "name": "python",
   "nbconvert_exporter": "python",
   "pygments_lexer": "ipython3",
   "version": "3.9.16"
  },
  "orig_nbformat": 4
 },
 "nbformat": 4,
 "nbformat_minor": 2
}
