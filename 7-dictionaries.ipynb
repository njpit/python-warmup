{
 "cells": [
  {
   "cell_type": "markdown",
   "metadata": {},
   "source": [
    "### Übung: Dictionaries in Python\n",
    "\n",
    "_Dictionaries_ dienen dazu, Daten in Form von _Schlüssel-Wert-Paaren_ abzuspeichern. Dabei ist jeder Schlüssel eindeutig und kann nur einmal vorkommen. Die Werte können beliebige Python-Objekte sein."
   ]
  },
  {
   "cell_type": "markdown",
   "metadata": {},
   "source": [
    "Gegeben sei das Dictionary:\n",
    "```python\n",
    "person = {\"Name\": \"Anna\", \"Alter\": 30, \"Stadt\": \"Berlin\"}\n",
    "```\n",
    "Gebe den Wert des Schlüssels \"Alter\" aus.\n"
   ]
  },
  {
   "cell_type": "code",
   "execution_count": null,
   "metadata": {},
   "outputs": [],
   "source": []
  },
  {
   "cell_type": "markdown",
   "metadata": {},
   "source": [
    "\n",
    "Gegeben sei das Dictionary:\n",
    "```python\n",
    "buch = {\"Titel\": \"Moby Dick\", \"Autor\": \"Herman Melville\"}\n",
    "```\n",
    "Füge dem Dictionary die Einträge \"Jahr\": 1851 und \"Genre\": \"Roman\" hinzu.\n"
   ]
  },
  {
   "cell_type": "code",
   "execution_count": null,
   "metadata": {},
   "outputs": [],
   "source": []
  },
  {
   "cell_type": "markdown",
   "metadata": {},
   "source": [
    "Gegeben sei das Dictionary:\n",
    "```python\n",
    "groesste_stadt = { \"Schweiz\": \"Zürich\", \"Deutschland\": \"Berlin\", \"Frankreich\": \"Paris\", \"Italien\": \"Rom\" }\n",
    "```\n",
    "Schreibe Code, um alle Länder (Schlüssel) und alle Hauptstädte (Werte) separat aufzulisten."
   ]
  },
  {
   "cell_type": "code",
   "execution_count": null,
   "metadata": {},
   "outputs": [],
   "source": []
  },
  {
   "cell_type": "markdown",
   "metadata": {},
   "source": [
    "Erstelle ein Dictionary, in dem Personen und ihre Lieblingsbücher (als Liste) gespeichert sind, z.B.:\n",
    "```python\n",
    "lieblingsbuecher = {\"Tom\": [\"1984\", \"Moby Dick\"], \"Emma\": [\"Stolz und Vorurteil\", \"Der große Gatsby\"]}\n",
    "```\n",
    "Füge einer Person ein weiteres Lieblingsbuch hinzu und drucke die aktualisierte Liste dieser Person.\n"
   ]
  },
  {
   "cell_type": "code",
   "execution_count": null,
   "metadata": {},
   "outputs": [],
   "source": []
  },
  {
   "cell_type": "markdown",
   "metadata": {},
   "source": [
    "Erstelle ein Dictionary mit verschiedenen Städten und ihrer Bevölkerungszahl.\n",
    "\n",
    "Schreibe eine Funktion, die den Namen der grössten Stadt ausgibt. \n",
    "\n",
    "Schreibe eine weitere Funktion, die den Namen der kleinsten Stadt ausgibt."
   ]
  },
  {
   "cell_type": "code",
   "execution_count": null,
   "metadata": {},
   "outputs": [],
   "source": [
    "städte = { \n",
    "    'New York City': 8.4, \n",
    "    'London': 8.8, \n",
    "    'Istanbul': 15.9,\n",
    "    'Berlin': 3.7,\n",
    "    'Peking': 21.5,\n",
    "} \n",
    "    "
   ]
  },
  {
   "cell_type": "markdown",
   "metadata": {},
   "source": [
    "Gegeben ist ein Dictionary, welches mehrere Produkte enthält, und für jedes Produkt den Namen, die Anzahl und den Preis.\n",
    "\n",
    "Berechnen Sie den Wert des Lagerbestands."
   ]
  },
  {
   "cell_type": "code",
   "execution_count": null,
   "metadata": {},
   "outputs": [],
   "source": [
    "lagerbestand = [\n",
    "    { 'name': 'Notebook', 'anzahl': 10, 'preis': 1000 },\n",
    "    { 'name': 'Maus', 'anzahl': 100, 'preis': 20 },\n",
    "    { 'name': 'Tastatur', 'anzahl': 50, 'preis': 50 },\n",
    "]\n",
    "\n",
    "# Wert des Lagerbestands berechnen"
   ]
  }
 ],
 "metadata": {
  "kernelspec": {
   "display_name": "base",
   "language": "python",
   "name": "python3"
  },
  "language_info": {
   "codemirror_mode": {
    "name": "ipython",
    "version": 3
   },
   "file_extension": ".py",
   "mimetype": "text/x-python",
   "name": "python",
   "nbconvert_exporter": "python",
   "pygments_lexer": "ipython3",
   "version": "3.9.16"
  },
  "orig_nbformat": 4
 },
 "nbformat": 4,
 "nbformat_minor": 2
}
