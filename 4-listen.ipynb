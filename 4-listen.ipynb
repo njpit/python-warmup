{
 "cells": [
  {
   "cell_type": "markdown",
   "metadata": {},
   "source": [
    "### Übung: Listen (und Schleifen) in Python\n",
    "\n",
    "Bearbeitet die folgenden Aufgaben am besten zu zweit - wenn Ihr Fragen habt, meldet Euch, ich komme gern zu Euch!"
   ]
  },
  {
   "cell_type": "markdown",
   "metadata": {},
   "source": [
    "Erstelle eine Liste `fruechte` und füge die Elemente \"Apfel\", \"Banane\" und \"Kirsche\" hinzu.\n",
    "\n",
    "Erstelle eine Liste `preise` mit den Preisen (als Floats) für die jeweiligen Früchte: z.B. 0.50, 0.30 und 1.20."
   ]
  },
  {
   "cell_type": "code",
   "execution_count": null,
   "metadata": {},
   "outputs": [],
   "source": []
  },
  {
   "cell_type": "markdown",
   "metadata": {},
   "source": [
    "Gib das zweite Element aus der `fruechte` Liste aus.\n",
    "\n",
    "Ändere den Preis der Banane in der `preise` Liste auf 0.35."
   ]
  },
  {
   "cell_type": "code",
   "execution_count": null,
   "metadata": {},
   "outputs": [],
   "source": []
  },
  {
   "cell_type": "markdown",
   "metadata": {},
   "source": [
    "Verwende eine `for`-Schleife, um alle Früchte in der `fruechte` Liste auszugeben."
   ]
  },
  {
   "cell_type": "code",
   "execution_count": null,
   "metadata": {},
   "outputs": [],
   "source": []
  },
  {
   "cell_type": "markdown",
   "metadata": {},
   "source": [
    "Erweitere die Schleife, sodass sie sowohl den Namen der Frucht als auch ihren Preis ausgibt."
   ]
  },
  {
   "cell_type": "markdown",
   "metadata": {},
   "source": [
    "Verwende eine Schleife (oder eine _list comprehension_), um eine neue Liste `rabattierte_preise` zu erstellen, in der alle Preise um 10% reduziert sind."
   ]
  },
  {
   "cell_type": "code",
   "execution_count": null,
   "metadata": {},
   "outputs": [],
   "source": []
  },
  {
   "cell_type": "markdown",
   "metadata": {},
   "source": [
    "Füge mithilfe der `append()` Methode die Frucht \"Orange\" und ihren Preis 0.80 zur `fruechte` bzw. `preise` Liste hinzu.\n",
    "\n",
    "Gib beide Listen aus, um sicherzustellen, dass die Elemente hinzugefügt wurden."
   ]
  },
  {
   "cell_type": "code",
   "execution_count": null,
   "metadata": {},
   "outputs": [],
   "source": []
  },
  {
   "cell_type": "markdown",
   "metadata": {},
   "source": [
    "Erstelle eine Liste `gemuese` mit den Elementen \"Karotte\", \"Brokkoli\" und \"Spinat\".\n",
    "\n",
    "Kombiniere die Listen `fruechte` und `gemuese` mithilfe der `extend()` Methode oder dem `+` Operator und speichere das Ergebnis in einer neuen Liste namens `lebensmittel`.\n"
   ]
  },
  {
   "cell_type": "code",
   "execution_count": null,
   "metadata": {},
   "outputs": [],
   "source": []
  },
  {
   "cell_type": "markdown",
   "metadata": {},
   "source": [
    "Verwende eine `for`-Schleife, um jedes Element in der `lebensmittel` Liste auszugeben und daneben anzugeben, ob es sich um ein Gemüse oder eine Frucht handelt."
   ]
  }
 ],
 "metadata": {
  "kernelspec": {
   "display_name": "base",
   "language": "python",
   "name": "python3"
  },
  "language_info": {
   "codemirror_mode": {
    "name": "ipython",
    "version": 3
   },
   "file_extension": ".py",
   "mimetype": "text/x-python",
   "name": "python",
   "nbconvert_exporter": "python",
   "pygments_lexer": "ipython3",
   "version": "3.9.16"
  },
  "orig_nbformat": 4
 },
 "nbformat": 4,
 "nbformat_minor": 2
}
