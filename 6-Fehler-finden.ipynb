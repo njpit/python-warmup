{
 "cells": [
  {
   "cell_type": "markdown",
   "metadata": {},
   "source": [
    "### Übung: Fehler finden, Fehlermeldungen verstehen\n",
    "\n",
    "Mit dem Wissen aus den vorherigen Aufgabe ist sind diese Aufgaben sehr einfach - in jeder Zelle ist ein Fehler. Führt die Zellen aus und versucht, die Fehlermeldungen zu verstehen. Korrigiert die Fehler und führt die Zellen erneut aus, bis keine Fehlermeldungen mehr erscheinen.\n",
    "\n",
    "Fehler kommen beim Programmieren oft vor, deshalb ist es wichtig, dass ihr die Fehlermeldungen lesen könnt und versteht, was sie bedeuten. Manche Fehlermeldungen sind sehr kryptisch, aber wenn ihr im Internet sucht, findet ihr meistens eine Erklärung. \n",
    "\n",
    "Wieder andere Code-Abschnitte sind nicht falsch (aus Sicht von Python), aber sie machen nicht das, was ihr wollt. Auch hier ist es wichtig, dass ihr den Code versteht und wisst, was er macht."
   ]
  },
  {
   "cell_type": "code",
   "execution_count": null,
   "metadata": {},
   "outputs": [],
   "source": [
    "def gruss(name)\n",
    "    return f\"Hallo, {name}!\"\n",
    "\n",
    "gruss(\"Max\")"
   ]
  },
  {
   "cell_type": "code",
   "execution_count": null,
   "metadata": {},
   "outputs": [],
   "source": [
    "\n",
    "fruits = [\"Apfel\", \"Banane\", \"Kirsche\"]\n",
    "for fruit in fruits:\n",
    "print(fruit)"
   ]
  },
  {
   "cell_type": "code",
   "execution_count": null,
   "metadata": {},
   "outputs": [],
   "source": [
    "def verdopple(n):\n",
    "    ergebnis *= 2\n",
    "    return ergebnis\n",
    "\n",
    "verdopple(4)"
   ]
  },
  {
   "cell_type": "code",
   "execution_count": null,
   "metadata": {},
   "outputs": [],
   "source": [
    "a = 5\n",
    "b = \"3\"\n",
    "\n",
    "ergebnis = a + b\n",
    "print(ergebnis)"
   ]
  },
  {
   "cell_type": "code",
   "execution_count": null,
   "metadata": {},
   "outputs": [],
   "source": [
    "i = 10\n",
    "while i > 0:\n",
    "    print(i)\n",
    "    i += 1"
   ]
  },
  {
   "cell_type": "code",
   "execution_count": null,
   "metadata": {},
   "outputs": [],
   "source": [
    "def addiere(a, b):\n",
    "    return a + b\n",
    "\n",
    "ergebnis = addiere(5)\n",
    "print(ergebnis)"
   ]
  },
  {
   "cell_type": "code",
   "execution_count": null,
   "metadata": {},
   "outputs": [],
   "source": [
    "def teile(a, b):\n",
    "    ergebnis = a / b\n",
    "\n",
    "teilergebnis = teile(8, 2)\n",
    "print(teilergebnis)"
   ]
  },
  {
   "cell_type": "code",
   "execution_count": null,
   "metadata": {},
   "outputs": [],
   "source": [
    "def dividiere(a, b):\n",
    "    return a / b\n",
    "\n",
    "ergebnis = dividiere(5, 0)\n",
    "print(ergebnis)"
   ]
  },
  {
   "cell_type": "code",
   "execution_count": null,
   "metadata": {},
   "outputs": [],
   "source": [
    "x = 10\n",
    "\n",
    "def setze_wert():\n",
    "    x = 5\n",
    "\n",
    "setze_wert()\n",
    "print(x)"
   ]
  },
  {
   "cell_type": "code",
   "execution_count": null,
   "metadata": {},
   "outputs": [],
   "source": [
    "def multipliziere(a, b):\n",
    "    return a * b\n",
    "\n",
    "def quadriere(zahl):\n",
    "    return multipliziere(zahl)\n",
    "\n",
    "quadriert = quadriere(4)\n",
    "print(quadriert)"
   ]
  },
  {
   "cell_type": "code",
   "execution_count": null,
   "metadata": {},
   "outputs": [],
   "source": [
    "farben = [\"rot\", \"grün\", \"blau\"]\n",
    "print(farben[3])"
   ]
  },
  {
   "cell_type": "code",
   "execution_count": null,
   "metadata": {},
   "outputs": [],
   "source": [
    "liste_a = [1, 2, 3]\n",
    "liste_b = 4\n",
    "resultat = liste_a + liste_b\n",
    "print(resultat)"
   ]
  },
  {
   "cell_type": "code",
   "execution_count": null,
   "metadata": {},
   "outputs": [],
   "source": [
    "tupel = (1, 2, 3)\n",
    "tupel[1] = 4"
   ]
  }
 ],
 "metadata": {
  "kernelspec": {
   "display_name": "base",
   "language": "python",
   "name": "python3"
  },
  "language_info": {
   "codemirror_mode": {
    "name": "ipython",
    "version": 3
   },
   "file_extension": ".py",
   "mimetype": "text/x-python",
   "name": "python",
   "nbconvert_exporter": "python",
   "pygments_lexer": "ipython3",
   "version": "3.9.16"
  },
  "orig_nbformat": 4
 },
 "nbformat": 4,
 "nbformat_minor": 2
}
