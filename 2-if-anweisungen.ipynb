{
 "cells": [
  {
   "cell_type": "markdown",
   "metadata": {},
   "source": [
    "### Übung: `if`-Anweisungen in Python\n",
    "\n",
    "Bearbeitet die folgenden Aufgaben am besten zu zweit - wenn Ihr Fragen habt, meldet Euch, ich komme gern zu Euch!"
   ]
  },
  {
   "cell_type": "markdown",
   "metadata": {},
   "source": [
    "Definiere eine Variable `zahl` und weise ihr einen Wert zwischen 1 und 10 zu.\n",
    "\n",
    "Verwende eine `if`-Anweisung, um zu prüfen, ob die Zahl größer als 5 ist. Wenn ja, gib \"Die Zahl ist größer als 5\" aus."
   ]
  },
  {
   "cell_type": "code",
   "execution_count": null,
   "metadata": {},
   "outputs": [],
   "source": [
    "zahl = ...\n",
    "\n",
    "if ...:\n",
    "    ..."
   ]
  },
  {
   "cell_type": "markdown",
   "metadata": {},
   "source": [
    "Erweitere die obige Bedingung mit einer `else`-Anweisung, die \"Die Zahl ist 5 oder kleiner\" ausgibt, wenn die Bedingung nicht erfüllt ist."
   ]
  },
  {
   "cell_type": "code",
   "execution_count": null,
   "metadata": {},
   "outputs": [],
   "source": [
    "if ...:\n",
    "    ...\n",
    "else:\n",
    "    ..."
   ]
  },
  {
   "cell_type": "markdown",
   "metadata": {},
   "source": [
    "Erweitere deine Bedingung weiter: Wenn die Zahl genau 5 ist, gib \"Die Zahl ist genau 5\" aus. Verwende dafür die `elif`-Anweisung."
   ]
  },
  {
   "cell_type": "code",
   "execution_count": null,
   "metadata": {},
   "outputs": [],
   "source": [
    "if ...:\n",
    "    ...\n",
    "elif ...:\n",
    "    ...\n",
    "else:\n",
    "    ..."
   ]
  },
  {
   "cell_type": "markdown",
   "metadata": {},
   "source": [
    "Erstelle zwei Variablen `alter` und `führerschein` (wahr oder falsch, also `True` oder `False`).\n",
    "\n",
    "Verwende eine verschachtelte `if`-Anweisung: Wenn das Alter größer oder gleich 18 ist und der Führerschein `True` ist, gib \"Du darfst Auto fahren\" aus. Wenn das Alter größer oder gleich 18 ist, aber der Führerschein `False` ist, gib \"Du darfst kein Auto fahren\" aus. Wenn das Alter kleiner 18 ist, dann soll \"Du bist noch zu jung\" ausgegeben werden.\n",
    "\n"
   ]
  },
  {
   "cell_type": "code",
   "execution_count": null,
   "metadata": {},
   "outputs": [],
   "source": [
    "alter = ...\n",
    "führerschein = ...\n",
    "\n",
    "if ...:\n",
    "    if ...:\n",
    "        ...\n",
    "    else:\n",
    "        ...\n",
    "else:\n",
    "    ..."
   ]
  },
  {
   "cell_type": "markdown",
   "metadata": {},
   "source": [
    "Erstelle eine Variable `wetter` und weise ihr einen der Werte \"sonnig\", \"regnerisch\" oder \"bewölkt\" zu.\n",
    "\n",
    "Erstelle eine weitere Variable `temperatur` und weise ihr einen Wert zwischen -10 und 40 zu.\n",
    "\n",
    "Verwende kombinierte Bedingungen (mit `and` und `or`), um folgende Ausgaben zu erzeugen:\n",
    "  \n",
    "  - Wenn es sonnig ist und die Temperatur größer als 20 ist, gib \"Perfektes Wetter!\" aus.\n",
    "\n",
    "  - Wenn es regnerisch oder bewölkt ist und die Temperatur kleiner oder gleich 20 ist, gib \"Schlechtes Wetter!\" aus.\n",
    "\n",
    "  - sonst gib \"mittelmäßiges Wetter\" aus.\n"
   ]
  },
  {
   "cell_type": "code",
   "execution_count": null,
   "metadata": {},
   "outputs": [],
   "source": [
    "wetter = \"sonnig\" # oder \"bewölkt\", \"regnerisch\"\n",
    "temperatur = 20 # in Grad Celsius\n",
    "\n",
    "..."
   ]
  },
  {
   "cell_type": "markdown",
   "metadata": {},
   "source": [
    "Erstelle eine Variable `temperatur` und weise ihr einen Wert zu.\n",
    "\n",
    "Verwende eine `if`-Anweisung, um zu prüfen, ob die Temperatur:\n",
    "  - Unter 0 ist: Gib \"Es ist eisig kalt!\" aus.\n",
    "  - Zwischen 0 und 15 ist: Gib \"Es ist kalt.\" aus.\n",
    "  - Zwischen 16 und 25 ist: Gib \"Das Wetter ist angenehm.\" aus.\n",
    "  - Über 25 ist: Gib \"Es ist warm!\" aus.\n",
    "\n",
    "Verändere die Variable `temperatur` und prüfe, ob sich die Ausgabe ändert."
   ]
  },
  {
   "cell_type": "code",
   "execution_count": null,
   "metadata": {},
   "outputs": [],
   "source": [
    "temperatur = ..."
   ]
  },
  {
   "cell_type": "markdown",
   "metadata": {},
   "source": [
    "Gegeben ist eine Variable mit einer Jahreszahl. Gib aus, ob es sich um ein Schaltjahr handelt.\n",
    "\n",
    "(Schaltjahre sind durch 4 teilbar, aber nicht durch 100, ausser sie sind auch durch 400 teilbar.)"
   ]
  },
  {
   "cell_type": "code",
   "execution_count": null,
   "metadata": {},
   "outputs": [],
   "source": [
    "# kein Schaltzahl\n",
    "jahr = 2019\n",
    "\n",
    "# Testfall für Schaltjahr\n",
    "# jahr = 2020\n",
    "\n",
    "# Spezialfall: Jahr 2000\n",
    "# jahr = 2000"
   ]
  }
 ],
 "metadata": {
  "language_info": {
   "name": "python"
  },
  "orig_nbformat": 4
 },
 "nbformat": 4,
 "nbformat_minor": 2
}
