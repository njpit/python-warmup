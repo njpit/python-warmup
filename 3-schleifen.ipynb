{
 "cells": [
  {
   "cell_type": "markdown",
   "metadata": {},
   "source": [
    "### Übung: Schleifen in Python\n",
    "\n",
    "Bearbeitet die folgenden Aufgaben am besten zu zweit - wenn Ihr Fragen habt, meldet Euch, ich komme gern zu Euch!"
   ]
  },
  {
   "cell_type": "markdown",
   "metadata": {},
   "source": [
    "\n",
    "Gegeben ist die Zahlenreihe: 1, 2, 3, 4, 5, 6, 7, 8, 9, 10.\n",
    "\n",
    "Verwende eine `for`-Schleife, um alle Zahlen dieser Reihe auszugeben."
   ]
  },
  {
   "cell_type": "code",
   "execution_count": null,
   "metadata": {},
   "outputs": [],
   "source": []
  },
  {
   "cell_type": "markdown",
   "metadata": {},
   "source": [
    "Gegeben ist die Zahlenreihe von 0 bis 20.\n",
    "\n",
    "Verwende eine `for`-Schleife und eine `if`-Anweisung, um nur die geraden Zahlen dieser Reihe auszugeben.\n"
   ]
  },
  {
   "cell_type": "code",
   "execution_count": null,
   "metadata": {},
   "outputs": [],
   "source": []
  },
  {
   "cell_type": "markdown",
   "metadata": {},
   "source": [
    "Gegeben ist die Zahlenreihe von 10 bis 1 (absteigend).\n",
    "\n",
    "Verwende eine `for`-Schleife, um alle Zahlen dieser Reihe auszugeben.\n"
   ]
  },
  {
   "cell_type": "code",
   "execution_count": null,
   "metadata": {},
   "outputs": [],
   "source": []
  },
  {
   "cell_type": "markdown",
   "metadata": {},
   "source": [
    "Gegeben ist die Zahlenreihe von 1 bis 10.\n",
    "\n",
    "Verwende eine `for`-Schleife, um das Quadrat jeder Zahl dieser Reihe auszugeben (z.B. 1, 4, 9, ...)."
   ]
  },
  {
   "cell_type": "code",
   "execution_count": null,
   "metadata": {},
   "outputs": [],
   "source": []
  },
  {
   "cell_type": "markdown",
   "metadata": {},
   "source": [
    "Gegeben ist folgende Zahlenreihe: 1, 2, 4, 7, 11, 16, 22, 29, 37, 46, ...\n",
    "\n",
    "Schreibe eine Schleife, die die Reihe weiterführt, bis die Zahl 100 erreicht oder überschritten wird (Tipp: `while`-Schleife)."
   ]
  },
  {
   "cell_type": "code",
   "execution_count": null,
   "metadata": {},
   "outputs": [],
   "source": []
  },
  {
   "cell_type": "markdown",
   "metadata": {},
   "source": [
    "Gegeben ist die Fibonacci-Reihe, bei der jede Zahl die Summe der beiden vorhergehenden ist, beginnend mit 0 und 1. (0, 1, 1, 2, 3, 5, 8, 13,...).\n",
    "\n",
    "Schreibe eine Schleife, die die ersten 100 Zahlen der Fibonacci-Reihe berechnet und ausgibt."
   ]
  },
  {
   "cell_type": "code",
   "execution_count": null,
   "metadata": {},
   "outputs": [],
   "source": []
  }
 ],
 "metadata": {
  "kernelspec": {
   "display_name": "base",
   "language": "python",
   "name": "python3"
  },
  "language_info": {
   "codemirror_mode": {
    "name": "ipython",
    "version": 3
   },
   "file_extension": ".py",
   "mimetype": "text/x-python",
   "name": "python",
   "nbconvert_exporter": "python",
   "pygments_lexer": "ipython3",
   "version": "3.9.16"
  },
  "orig_nbformat": 4
 },
 "nbformat": 4,
 "nbformat_minor": 2
}
