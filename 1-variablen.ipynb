{
 "cells": [
  {
   "cell_type": "markdown",
   "metadata": {},
   "source": [
    "### Übung: Variablen und Datentypen in Python\n",
    "\n",
    "Bearbeitet die folgenden Aufgaben am besten zu zweit - wenn Ihr Fragen habt, meldet Euch, ich komme gern zu Euch!"
   ]
  },
  {
   "cell_type": "markdown",
   "metadata": {},
   "source": [
    "Erstelle eine Variable `name` und weise ihr deinen Namen als String zu.\n",
    "\n",
    "Erstelle eine Variable `alter` und weise ihr dein Alter als Integer zu.\n",
    "\n",
    "Erstelle eine Variable `groesse` und weise ihr deine Größe in Metern als Float zu (z.B. 1.75 für 1,75m)."
   ]
  },
  {
   "cell_type": "code",
   "execution_count": null,
   "metadata": {},
   "outputs": [],
   "source": []
  },
  {
   "cell_type": "markdown",
   "metadata": {},
   "source": [
    "Verwende die Funktion `type()` um den Datentyp jeder oben erstellten Variable auszugeben:"
   ]
  },
  {
   "cell_type": "code",
   "execution_count": null,
   "metadata": {},
   "outputs": [],
   "source": []
  },
  {
   "cell_type": "markdown",
   "metadata": {},
   "source": [
    "Versuche, die `name` und `alter` Variablen mit einem Pluszeichen (+) zu kombinieren und das Ergebnis auszugeben. Was passiert? Warum? Korrigiere den Fehler, indem du das Alter in einen String konvertierst und kombiniere dann die beiden Strings.\n"
   ]
  },
  {
   "cell_type": "code",
   "execution_count": null,
   "metadata": {},
   "outputs": [],
   "source": []
  },
  {
   "cell_type": "markdown",
   "metadata": {},
   "source": [
    "Erstelle zwei neue Variablen a mit dem Wert 10 und b mit dem Wert 3.\n",
    "Führe die Grundoperationen (Addition, Subtraktion, Multiplikation, Division) mit a und b durch und gib die Ergebnisse aus."
   ]
  },
  {
   "cell_type": "code",
   "execution_count": null,
   "metadata": {},
   "outputs": [],
   "source": []
  },
  {
   "cell_type": "markdown",
   "metadata": {},
   "source": [
    "Teile a durch b und weise das Ergebnis einer neuen Variable ergebnis zu.\n",
    "Verwende die Funktion `int()` um das Ergebnis in einen Integer zu konvertieren und gib das neue Ergebnis aus."
   ]
  },
  {
   "cell_type": "code",
   "execution_count": null,
   "metadata": {},
   "outputs": [],
   "source": []
  },
  {
   "cell_type": "markdown",
   "metadata": {},
   "source": [
    "Soeichere drei Noten zwischen 1 und 6 in drei Variablen `note1`, `note2` und `note3`. Berechne danach der Durchschnitt der drei Noten."
   ]
  },
  {
   "cell_type": "code",
   "execution_count": null,
   "metadata": {},
   "outputs": [],
   "source": []
  },
  {
   "cell_type": "markdown",
   "metadata": {},
   "source": [
    "Berechne den Celsius-Wert zu einem gegebenen Fahrenheit-Wert (die Umwandlungsformel kann schnell bei Google gefunden werden). Gib das Ergebnis auf zwei Stellen genau aus."
   ]
  },
  {
   "cell_type": "code",
   "execution_count": null,
   "metadata": {},
   "outputs": [],
   "source": [
    "fahrenheit = 86.0\n",
    "celsius = ...\n",
    "\n",
    "# mit zwei Nachkommastellen ausgeben\n",
    "print(...)\n"
   ]
  },
  {
   "cell_type": "markdown",
   "metadata": {},
   "source": [
    "Finde einen Weg, den Inhalt der beiden Variablen `x` und `y` zu vertauschen:"
   ]
  },
  {
   "cell_type": "code",
   "execution_count": null,
   "metadata": {},
   "outputs": [],
   "source": [
    "x = 5\n",
    "y = 2\n",
    "\n",
    "...\n",
    "\n",
    "print(x, y) # sollte \"2 5\" ausgeben"
   ]
  }
 ],
 "metadata": {
  "kernelspec": {
   "display_name": "base",
   "language": "python",
   "name": "python3"
  },
  "language_info": {
   "codemirror_mode": {
    "name": "ipython",
    "version": 3
   },
   "file_extension": ".py",
   "mimetype": "text/x-python",
   "name": "python",
   "nbconvert_exporter": "python",
   "pygments_lexer": "ipython3",
   "version": "3.9.16"
  },
  "orig_nbformat": 4
 },
 "nbformat": 4,
 "nbformat_minor": 2
}
